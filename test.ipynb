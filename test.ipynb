{
  "cells": [
    {
      "cell_type": "code",
      "execution_count": 1,
      "metadata": {
        "colab": {
          "base_uri": "https://localhost:8080/"
        },
        "id": "p6t_AYatBET_",
        "outputId": "261634b8-72b2-4731-9a04-6010983936bd"
      },
      "outputs": [
        {
          "output_type": "stream",
          "name": "stdout",
          "text": [
            "Looking in indexes: https://pypi.org/simple, https://us-python.pkg.dev/colab-wheels/public/simple/\n",
            "Requirement already satisfied: opencv-python in /usr/local/lib/python3.9/dist-packages (4.7.0.72)\n",
            "Requirement already satisfied: numpy>=1.17.3 in /usr/local/lib/python3.9/dist-packages (from opencv-python) (1.22.4)\n"
          ]
        }
      ],
      "source": [
        "pip install opencv-python"
      ]
    },
    {
      "cell_type": "code",
      "execution_count": 2,
      "metadata": {
        "id": "3TcMaP1E8gcR"
      },
      "outputs": [],
      "source": [
        "import tensorflow\n",
        "from keras.models import load_model\n",
        "import numpy as np\n",
        "import cv2"
      ]
    },
    {
      "cell_type": "code",
      "execution_count": 12,
      "metadata": {
        "id": "K6X7xubBkXYy"
      },
      "outputs": [],
      "source": [
        "\n",
        "model = tensorflow.keras.models.load_model('/content/drive/MyDrive/load_model/model.h5')"
      ]
    },
    {
      "cell_type": "code",
      "source": [
        "from google.colab import drive\n",
        "drive.mount('/content/drive')"
      ],
      "metadata": {
        "colab": {
          "base_uri": "https://localhost:8080/"
        },
        "id": "CyfAxEwtIWIa",
        "outputId": "1eed07ca-dbb3-4f84-c85d-55a6961ba6ad"
      },
      "execution_count": 8,
      "outputs": [
        {
          "output_type": "stream",
          "name": "stdout",
          "text": [
            "Mounted at /content/drive\n"
          ]
        }
      ]
    },
    {
      "cell_type": "markdown",
      "source": [
        "# New Section"
      ],
      "metadata": {
        "id": "NS26airMF-sC"
      }
    },
    {
      "cell_type": "code",
      "execution_count": 10,
      "metadata": {
        "id": "hgtM68LuBg7A"
      },
      "outputs": [],
      "source": [
        "# Define a function to predict new images\n",
        "def predict_image(image_path):\n",
        "    #reading image\n",
        "    img = cv2.imread(image_path,cv2.IMREAD_COLOR)\n",
        "    # Convert the RGB image to grayscale\n",
        "    gray = cv2.cvtColor(img, cv2.COLOR_RGB2GRAY)\n",
        "    # Resize the grayscale image to the input shape of the model\n",
        "    resized = cv2.resize(gray, (200, 200))\n",
        "\n",
        "   # Add an extra dimension to the input to match the expected shape of the model\n",
        "    input_data = resized.reshape((1, 200, 200, 1))\n",
        "\n",
        "    input_data = input_data / 255.0\n",
        "\n",
        "    # Use the model to make predictions on the input data\n",
        "    predictions = model.predict(input_data)\n",
        "    #predictions=np.argmax(predictions)\n",
        "    # Print the predicted class label\n",
        "    Lables = {\n",
        "        '0': 'Cyst',\n",
        "        '1': 'Normal',\n",
        "        '2': 'Stone',\n",
        "        '3': 'Tumor',\n",
        "    }\n",
        "    prediction=np.argmax(predictions)\n",
        "\n",
        "    #prediction = np.argmax(mfcc_output)\n",
        "\n",
        "    for key, predicted_label in Lables.items():\n",
        "        if key == str(prediction):\n",
        "            return predicted_label\n",
        "\n",
        "    return { \"predication \":predicted_label}\n",
        "\n"
      ]
    },
    {
      "cell_type": "code",
      "execution_count": 11,
      "metadata": {
        "colab": {
          "base_uri": "https://localhost:8080/",
          "height": 53
        },
        "id": "S4_6524oGI9O",
        "outputId": "c1b5d2e7-1d4e-4321-9cf0-747751fa4ebb"
      },
      "outputs": [
        {
          "output_type": "stream",
          "name": "stdout",
          "text": [
            "1/1 [==============================] - 1s 740ms/step\n"
          ]
        },
        {
          "output_type": "execute_result",
          "data": {
            "text/plain": [
              "'Normal'"
            ],
            "application/vnd.google.colaboratory.intrinsic+json": {
              "type": "string"
            }
          },
          "metadata": {},
          "execution_count": 11
        }
      ],
      "source": [
        "imge_path='/content/drive/MyDrive/load_model/Normal- (48).jpg'\n",
        "predict_image(imge_path)"
      ]
    },
    {
      "cell_type": "code",
      "execution_count": null,
      "metadata": {
        "id": "_Neota52-ryw"
      },
      "outputs": [],
      "source": []
    }
  ],
  "metadata": {
    "colab": {
      "provenance": []
    },
    "kernelspec": {
      "display_name": "Python 3 (ipykernel)",
      "language": "python",
      "name": "python3"
    },
    "language_info": {
      "codemirror_mode": {
        "name": "ipython",
        "version": 3
      },
      "file_extension": ".py",
      "mimetype": "text/x-python",
      "name": "python",
      "nbconvert_exporter": "python",
      "pygments_lexer": "ipython3",
      "version": "3.9.13"
    }
  },
  "nbformat": 4,
  "nbformat_minor": 0
}